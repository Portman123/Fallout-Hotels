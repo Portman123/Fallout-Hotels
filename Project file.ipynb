{
  "nbformat": 4,
  "nbformat_minor": 0,
  "metadata": {
    "colab": {
      "name": "Hackathon map final.ipynb",
      "provenance": [],
      "collapsed_sections": [],
      "include_colab_link": true
    },
    "kernelspec": {
      "name": "python3",
      "display_name": "Python 3"
    },
    "language_info": {
      "name": "python"
    }
  },
  "cells": [
    {
      "cell_type": "markdown",
      "metadata": {
        "id": "view-in-github",
        "colab_type": "text"
      },
      "source": [
        "<a href=\"https://colab.research.google.com/github/Portman123/Fallout-Hotels/blob/main/Project%20file.ipynb\" target=\"_parent\"><img src=\"https://colab.research.google.com/assets/colab-badge.svg\" alt=\"Open In Colab\"/></a>"
      ]
    },
    {
      "cell_type": "code",
      "metadata": {
        "id": "uqfNtqENKu8_"
      },
      "source": [
        "import folium\n",
        "import pandas as pd\n",
        "import random\n",
        "\n",
        "# Set up dataframes\n",
        "nuclear_df = pd.read_csv(\"https://raw.githubusercontent.com/Portman123/Fallout-Hotels/main/nuclear_df.csv\")\n",
        "nuclear_df = nuclear_df.astype(dtype = {\"zone_1\": \"int64\", \"zone_2\": \"int64\"})\n",
        "\n",
        "hotels_df = pd.read_csv(\"https://raw.githubusercontent.com/Portman123/Fallout-Hotels/main/hotelsdangerzones.csv\")\n",
        "hotels_sample = hotels_df.sample(500)\n",
        "\n",
        "citydf = pd.read_csv(\"https://raw.githubusercontent.com/Portman123/Fallout-Hotels/main/worldcities.csv\")\n",
        "\n",
        "# List of random powers\n",
        "power_list = pd.read_csv(\"https://raw.githubusercontent.com/Portman123/Fallout-Hotels/main/powersdf.csv\")\n",
        "\n",
        "# Reset index of hotels sample\n",
        "hotels_sample = hotels_sample.reset_index()\n",
        "\n",
        "# Making a list of bad super powers for the hotels sample\n",
        "badsuperpowers = []\n",
        "for i in range(len(hotels_sample[\"name\"])):\n",
        "  x = random.randint(0, (len(power_list)-1))\n",
        "  badsuperpowers.append(power_list.at[x, 'superpower'])\n",
        "\n",
        "# Add superpowers to the sample df\n",
        "bsp_df = pd.DataFrame(badsuperpowers)\n",
        "hotels_sample[\"superpower\"] = bsp_df\n",
        "\n",
        "# Assign no power to those with 0 danger\n",
        "mask = hotels_sample[\"danger-zones\"]==0\n",
        "hotels_sample.loc[mask, \"superpower\"]=\"none! there is no radiation here\"\n"
      ],
      "execution_count": 39,
      "outputs": []
    },
    {
      "cell_type": "code",
      "metadata": {
        "id": "4_MUjIkdx8jP"
      },
      "source": [
        "def citychoose(pop):#function so executes on page load with new info\n",
        "  return citydf.loc[citydf['population']>pop]"
      ],
      "execution_count": 40,
      "outputs": []
    },
    {
      "cell_type": "code",
      "metadata": {
        "id": "hBuqVDWKKxp1"
      },
      "source": [
        "def mapmaker(plothot, plotplant, plotbomb, pop, bombfallscale, bombboomscale,reactorfallscale, reactorboomscale, mindanger): #function so executes on page load with new info\n",
        "  m = folium.Map(location=[53.814485, 12.999019], tiles ='Stamen Toner', zoom_start = 4)\n",
        "  cities = citychoose(pop)#should make the cities contain only those with population > pop\n",
        "  if(plotplant):\n",
        "    for lat, lon, name, blast_rad, cont_rad in zip(nuclear_df['latitude'], nuclear_df['longitude'], nuclear_df['name'], nuclear_df['zone_1'], nuclear_df['zone_2']):\n",
        "        # Creating the marker\n",
        "        folium.Marker(\n",
        "        # Coordinate of the country\n",
        "        location=[lat, lon],\n",
        "        # The popup that show up if click the marker\n",
        "        popup=folium.Popup(f\"\"\"Nuclear power station - <b>{name}</b> <br>\n",
        "                            Blast radius: {blast_rad*reactorboomscale} miles <br>\n",
        "                            Contamination radius: {cont_rad*reactorfallscale} miles <br>\n",
        "                        \"\"\", max_width=len(\"Nuclear power station - \" + name)*10),\n",
        "        # Change icon\n",
        "        icon=folium.features.CustomIcon(\"https://i.ibb.co/bWF2MRf/radiation.png\", icon_size=(20, 20))\n",
        "        ).add_to(m)\n",
        "\n",
        "    # Zone 2 radius\n",
        "    for lat, lon, rad in zip(nuclear_df['latitude'], nuclear_df['longitude'], nuclear_df['zone_2']):\n",
        "      folium.Circle([lat, lon], radius=rad*1609.34*reactorfallscale, color='#ff0000', fill_color='#ff0000', fill_opacity=0.3, opacity=0.3).add_to(m)\n",
        "\n",
        "    # Zone 1 radius\n",
        "    for lat, lon, rad in zip(nuclear_df['latitude'], nuclear_df['longitude'], nuclear_df['zone_1']):\n",
        "      folium.Circle([lat, lon], radius=rad*1609.34*reactorboomscale, color='#fafa0a', fill_color='#fafa0a', fill_opacity=0.6, opacity=0.6).add_to(m)\n",
        "  if (plothot):\n",
        "    # Hotels\n",
        "    for lat, lon, name, superpower, danger in zip(hotels_sample['latitude'], hotels_sample['longitude'], hotels_sample['name'], hotels_sample['superpower'], hotels_sample['danger-zones']):\n",
        "      if (danger >= mindanger):\n",
        "        # Creating the marker\n",
        "        folium.Marker(\n",
        "        # Coordinate of the country\n",
        "        location=[lat, lon],\n",
        "        # The popup that show up if click the marker\n",
        "        popup = folium.Popup(f\"\"\"Hotel name - {name} <br>\n",
        "                            Number of danger zones: {danger} <br>\n",
        "                            The power you could get is: {superpower} <br>\n",
        "                        \"\"\", max_width=len(f\"{name}\")*20),\n",
        "        # Change icon\n",
        "        icon=folium.Icon(color=\"lightgreen\")\n",
        "        ).add_to(m)\n",
        "\n",
        "  #Cities / Bombs\n",
        "  if (plotbomb):\n",
        "    for lat, lon, city, population in zip(cities['lat'], cities['lng'], cities['city'], cities['population']):\n",
        "      if (population > pop):#Technically redundant, but dont want it to break\n",
        "        #Creating the marker\n",
        "        folium.Marker(\n",
        "        #Coordinate of the country\n",
        "        location=[lat, lon],\n",
        "        #The popup that show up if click the marker\n",
        "        popup=folium.Popup(f\"\"\"Major city - <b>{city}</b><br>\n",
        "                        \"\"\", max_width=len(f\"Major city - {city}\")*10),\n",
        "        icon=folium.features.CustomIcon(\"https://i.ibb.co/2sCs96V/Skull-Icon-svg.png\", icon_size=(15, 15))\n",
        "        ).add_to(m)\n",
        "\n",
        "\n",
        "    for lat, lon, population in zip(cities['lat'], cities['lng'], cities['population']):\n",
        "      if (population > pop): #Technically redundant, but dont want it to break\n",
        "        #Fallout radius (based on Castle Bravo)\n",
        "        folium.Circle([lat, lon], radius=76*1000*bombfallscale, color='#ff0000', fill_color='#ff0000', opacity=0.2).add_to(m)\n",
        "        #Fireball radius (based on Castle Bravo)\n",
        "        folium.Circle([lat, lon], radius=7.2*1000*bombboomscale, color='#000000', fill_color='#000000', opacity=0.3).add_to(m)\n",
        "\n",
        "  return m  "
      ],
      "execution_count": 41,
      "outputs": []
    },
    {
      "cell_type": "code",
      "metadata": {
        "colab": {
          "base_uri": "https://localhost:8080/"
        },
        "id": "Ad-rInz8L4LI",
        "outputId": "ebbc68d0-c012-48ed-897d-4bed3077cf2f"
      },
      "source": [
        "!pip install flask-ngrok"
      ],
      "execution_count": 42,
      "outputs": [
        {
          "output_type": "stream",
          "name": "stdout",
          "text": [
            "Requirement already satisfied: flask-ngrok in /usr/local/lib/python3.7/dist-packages (0.0.25)\n",
            "Requirement already satisfied: Flask>=0.8 in /usr/local/lib/python3.7/dist-packages (from flask-ngrok) (1.1.4)\n",
            "Requirement already satisfied: requests in /usr/local/lib/python3.7/dist-packages (from flask-ngrok) (2.23.0)\n",
            "Requirement already satisfied: Jinja2<3.0,>=2.10.1 in /usr/local/lib/python3.7/dist-packages (from Flask>=0.8->flask-ngrok) (2.11.3)\n",
            "Requirement already satisfied: click<8.0,>=5.1 in /usr/local/lib/python3.7/dist-packages (from Flask>=0.8->flask-ngrok) (7.1.2)\n",
            "Requirement already satisfied: Werkzeug<2.0,>=0.15 in /usr/local/lib/python3.7/dist-packages (from Flask>=0.8->flask-ngrok) (1.0.1)\n",
            "Requirement already satisfied: itsdangerous<2.0,>=0.24 in /usr/local/lib/python3.7/dist-packages (from Flask>=0.8->flask-ngrok) (1.1.0)\n",
            "Requirement already satisfied: MarkupSafe>=0.23 in /usr/local/lib/python3.7/dist-packages (from Jinja2<3.0,>=2.10.1->Flask>=0.8->flask-ngrok) (2.0.1)\n",
            "Requirement already satisfied: idna<3,>=2.5 in /usr/local/lib/python3.7/dist-packages (from requests->flask-ngrok) (2.10)\n",
            "Requirement already satisfied: certifi>=2017.4.17 in /usr/local/lib/python3.7/dist-packages (from requests->flask-ngrok) (2021.10.8)\n",
            "Requirement already satisfied: urllib3!=1.25.0,!=1.25.1,<1.26,>=1.21.1 in /usr/local/lib/python3.7/dist-packages (from requests->flask-ngrok) (1.24.3)\n",
            "Requirement already satisfied: chardet<4,>=3.0.2 in /usr/local/lib/python3.7/dist-packages (from requests->flask-ngrok) (3.0.4)\n"
          ]
        }
      ]
    },
    {
      "cell_type": "code",
      "metadata": {
        "id": "s-Za9vPDkeAh"
      },
      "source": [
        "formhtml = '''<form action=\"/\" method = \"POST\">\n",
        "<p style=\"font-size:24px;\">Nuclear Bomb Locations</p>\n",
        "<p>Minimum pop. value for nuke (standard = 1000000) <input type = \"text\" value=\"1000000\" name = \"Minpop\" /></p>\n",
        "<p style=\"font-size:24px;\">Nuclear Bomb Multipliers</p>\n",
        "<p>Plot Bombs <input type=\"checkbox\" name=\"PlotBomb\" checked></p>\n",
        "<p>Explosion Scale Value (standard = 1) <input type = \"text\" value=\"1\" name = \"BBoomscale\" /></p>\n",
        "<p>Fallout Scale Value (standard = 1) <input type = \"text\" value=\"1\" name = \"BFallscale\" /></p>\n",
        "<p style=\"font-size:24px;\">Nuclear Power Plant Multipliers</p>\n",
        "<p>Plot Reactors <input type=\"checkbox\" name=\"PlotPlant\" checked></p>\n",
        "<p>Explosion Scale Value (standard = 1) <input type = \"text\" value=\"1\" name = \"RBoomscale\" /></p>\n",
        "<p>Fallout Scale Value (standard = 1) <input type = \"text\" value=\"1\" name = \"RFallscale\" /></p>\n",
        "<p style=\"font-size:24px;\">Hotel Options</p>\n",
        "<p>Plot Hotels <input type=\"checkbox\" name=\"PlotHot\" checked></p>\n",
        "<p>Minimum Danger Value (standard = 0) <input type = \"text\" value=\"0\" name = \"DangerVal\" /></p>\n",
        "<p><input type = \"submit\" value = \"Submit\" /></p></form>''' #literally just the html code for a form / index page"
      ],
      "execution_count": 43,
      "outputs": []
    },
    {
      "cell_type": "code",
      "metadata": {
        "id": "H6CCOPANvmtt"
      },
      "source": [
        "back ='''<form action=\"/form\"><p><input type = \"submit\" value = \"Change Values\" /></p></form>'''# html code for back button"
      ],
      "execution_count": 44,
      "outputs": []
    },
    {
      "cell_type": "code",
      "metadata": {
        "id": "uIXm77Oz5_-j"
      },
      "source": [
        "cssStuff = '''<title>The Map</title>\n",
        "<meta charset=\"UTF-8\">\n",
        "<meta name=\"viewport\" content=\"width=device-width, initial-scale=1\">\n",
        "<link rel=\"stylesheet\" href=\"https://www.w3schools.com/w3css/4/w3.css\">\n",
        "<link rel=\"stylesheet\" href=\"https://fonts.googleapis.com/css?family=Lato\">\n",
        "<style>\n",
        "body {\n",
        "  font-family: \"Lucida Console\", monospace;\n",
        "  background-color: black\n",
        "}\n",
        "p,h1 {\n",
        "  color:white;\n",
        "  font-size:16px;\n",
        "}\n",
        "\n",
        "</style>'''"
      ],
      "execution_count": 45,
      "outputs": []
    },
    {
      "cell_type": "code",
      "metadata": {
        "id": "7b5HdJnD3U8s",
        "colab": {
          "base_uri": "https://localhost:8080/"
        },
        "outputId": "4f164206-892e-4698-88ca-fca9d55f152f"
      },
      "source": [
        "from flask import Flask,render_template,request\n",
        "from flask_ngrok import run_with_ngrok\n",
        "\n",
        "app = Flask(__name__)\n",
        "run_with_ngrok(app)   \n",
        "\n",
        "@app.route('/', methods = ['POST', 'GET'])\n",
        "def map():\n",
        "  if request.method == 'GET': #on standard page view, values are default\n",
        "        minpop = 1000000\n",
        "        bfscale = 1\n",
        "        bbscale = 1\n",
        "        rfscale = 1\n",
        "        rbscale = 1\n",
        "        danger = 0\n",
        "        plotbomb = True\n",
        "        plotplant = True \n",
        "        plothot = True\n",
        "        folium_map = mapmaker(plothot,plotplant,plotbomb, minpop, bfscale, bbscale,rfscale,rbscale,danger)#make map with set values\n",
        "        return cssStuff + back + folium_map._repr_html_() #css, back button and map\n",
        "  if request.method == 'POST':#after form submission, values are retrived from POST\n",
        "        minpop = float(request.form['Minpop'])\n",
        "        bfscale = float(request.form['BFallscale'])\n",
        "        bbscale = float(request.form['BBoomscale'])\n",
        "        rfscale = float(request.form['RFallscale'])\n",
        "        rbscale = float(request.form['RBoomscale'])\n",
        "        danger = float(request.form['DangerVal'])\n",
        "        if (request.form.get('PlotBomb') == \"on\"):\n",
        "           plotbomb = True\n",
        "        else:\n",
        "          plotbomb = False\n",
        "        if (request.form.get('PlotPlant') == \"on\"):\n",
        "           plotplant = True\n",
        "        else:\n",
        "          plotplant = False\n",
        "        if (request.form.get('PlotHot') == \"on\"):\n",
        "           plothot = True\n",
        "        else:\n",
        "          plothot = False\n",
        "        folium_map = mapmaker(plothot,plotplant,plotbomb, minpop, bfscale, bbscale,rfscale,rbscale,danger)#make map with changed values\n",
        "        return cssStuff + back + folium_map._repr_html_()#css, back button and map\n",
        "  \n",
        "\n",
        "@app.route('/form/')\n",
        "def form():\n",
        "    return cssStuff + formhtml #shows form as defined in formhtml variable\n",
        "\n",
        "app.run()"
      ],
      "execution_count": null,
      "outputs": [
        {
          "output_type": "stream",
          "name": "stdout",
          "text": [
            " * Serving Flask app \"__main__\" (lazy loading)\n",
            " * Environment: production\n",
            "\u001b[31m   WARNING: This is a development server. Do not use it in a production deployment.\u001b[0m\n",
            "\u001b[2m   Use a production WSGI server instead.\u001b[0m\n",
            " * Debug mode: off\n"
          ]
        },
        {
          "output_type": "stream",
          "name": "stderr",
          "text": [
            " * Running on http://127.0.0.1:5000/ (Press CTRL+C to quit)\n"
          ]
        },
        {
          "output_type": "stream",
          "name": "stdout",
          "text": [
            " * Running on http://e48b-35-245-249-164.ngrok.io\n",
            " * Traffic stats available on http://127.0.0.1:4040\n"
          ]
        },
        {
          "output_type": "stream",
          "name": "stderr",
          "text": [
            "127.0.0.1 - - [28/Nov/2021 10:48:12] \"\u001b[37mGET / HTTP/1.1\u001b[0m\" 200 -\n",
            "127.0.0.1 - - [28/Nov/2021 10:48:14] \"\u001b[33mGET /favicon.ico HTTP/1.1\u001b[0m\" 404 -\n",
            "127.0.0.1 - - [28/Nov/2021 10:48:16] \"\u001b[37mGET / HTTP/1.1\u001b[0m\" 200 -\n",
            "127.0.0.1 - - [28/Nov/2021 10:48:51] \"\u001b[37mGET / HTTP/1.1\u001b[0m\" 200 -\n"
          ]
        }
      ]
    }
  ]
}